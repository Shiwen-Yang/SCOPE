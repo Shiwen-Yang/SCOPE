{
 "cells": [
  {
   "cell_type": "markdown",
   "id": "b695b9cb",
   "metadata": {},
   "source": [
    "**Sanity check**: $P_\\sigma e_i = e_{\\sigma(i)}$"
   ]
  },
  {
   "cell_type": "code",
   "execution_count": 2,
   "id": "98c8131b",
   "metadata": {},
   "outputs": [
    {
     "name": "stdout",
     "output_type": "stream",
     "text": [
      "Permutation matrix P_sigma:\n",
      "[[0 0 1 0]\n",
      " [1 0 0 0]\n",
      " [0 1 0 0]\n",
      " [0 0 0 1]]\n",
      "\n",
      "e_1 = [1. 0. 0. 0.]\n",
      "P_sigma * e_1 = [0. 1. 0. 0.]\n",
      "e_sigma(1) = [0. 1. 0. 0.]\n",
      "Equal? True\n",
      "\n",
      "e_2 = [0. 1. 0. 0.]\n",
      "P_sigma * e_2 = [0. 0. 1. 0.]\n",
      "e_sigma(2) = [0. 0. 1. 0.]\n",
      "Equal? True\n",
      "\n",
      "e_3 = [0. 0. 1. 0.]\n",
      "P_sigma * e_3 = [1. 0. 0. 0.]\n",
      "e_sigma(3) = [1. 0. 0. 0.]\n",
      "Equal? True\n",
      "\n",
      "e_4 = [0. 0. 0. 1.]\n",
      "P_sigma * e_4 = [0. 0. 0. 1.]\n",
      "e_sigma(4) = [0. 0. 0. 1.]\n",
      "Equal? True\n"
     ]
    }
   ],
   "source": [
    "import numpy as np\n",
    "# Define the permutation sigma in 0-based indexing\n",
    "# sigma = (1 2 3) -> [1, 2, 0, 3]\n",
    "sigma = [1, 2, 0, 3]\n",
    "\n",
    "# Size of the permutation\n",
    "p = len(sigma)\n",
    "\n",
    "# Construct the permutation matrix P_sigma\n",
    "P_sigma = np.zeros((p, p), dtype=int)\n",
    "for j in range(p):\n",
    "    i = sigma[j]\n",
    "    P_sigma[i, j] = 1\n",
    "\n",
    "print(\"Permutation matrix P_sigma:\")\n",
    "print(P_sigma)\n",
    "\n",
    "# Verify that P_sigma * e_j = e_sigma(j)\n",
    "for j in range(p):\n",
    "    e_j = np.zeros(p)\n",
    "    e_j[j] = 1\n",
    "    result = P_sigma @ e_j\n",
    "    e_sigma_j = np.zeros(p)\n",
    "    e_sigma_j[sigma[j]] = 1\n",
    "\n",
    "    print(f\"\\ne_{j + 1} = {e_j}\")\n",
    "    print(f\"P_sigma * e_{j + 1} = {result}\")\n",
    "    print(f\"e_sigma({j + 1}) = {e_sigma_j}\")\n",
    "    print(f\"Equal? {np.allclose(result, e_sigma_j)}\")\n"
   ]
  }
 ],
 "metadata": {
  "kernelspec": {
   "display_name": "Python 3",
   "language": "python",
   "name": "python3"
  },
  "language_info": {
   "codemirror_mode": {
    "name": "ipython",
    "version": 3
   },
   "file_extension": ".py",
   "mimetype": "text/x-python",
   "name": "python",
   "nbconvert_exporter": "python",
   "pygments_lexer": "ipython3",
   "version": "3.12.5"
  }
 },
 "nbformat": 4,
 "nbformat_minor": 5
}
